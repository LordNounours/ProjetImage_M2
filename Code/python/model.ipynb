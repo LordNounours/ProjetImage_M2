{
 "cells": [
  {
   "cell_type": "markdown",
   "metadata": {},
   "source": [
    "# Librairies"
   ]
  },
  {
   "cell_type": "code",
   "execution_count": null,
   "metadata": {},
   "outputs": [],
   "source": [
    "import tensorflow as tf\n",
    "from tensorflow import keras\n",
    "import numpy as np\n",
    "import matplotlib.pyplot as plt\n",
    "from sklearn.metrics import confusion_matrix, ConfusionMatrixDisplay\n",
    "import os\n",
    "from sklearn.model_selection import train_test_split\n",
    "from sklearn.metrics import classification_report\n",
    "gpus = tf.config.experimental.list_physical_devices('GPU')\n",
    "if gpus:\n",
    "    try:\n",
    "        tf.config.experimental.set_memory_growth(gpus[0], True)\n",
    "    except RuntimeError as e:\n",
    "        print(e)"
   ]
  },
  {
   "cell_type": "markdown",
   "metadata": {},
   "source": [
    "# Chargement de données"
   ]
  },
  {
   "cell_type": "code",
   "execution_count": null,
   "metadata": {},
   "outputs": [],
   "source": [
    "train_base_dir = '../Data/Data/'\n",
    "clear_dir = os.path.join(train_base_dir, 'clear')\n",
    "classes = ['clear', 'distorsion1', 'distorsion2', 'distorsion3','mvt1','mvt2','mvt3','gauss1','gauss2','gauss3','pixel1','pixel2','pixel3'] \n",
    "\n",
    "def verifier_et_lister_contenu(repertoire):\n",
    "    if os.path.exists(repertoire):\n",
    "        print(f\"Le dossier '{repertoire}' contient les fichiers suivants :\")\n",
    "        for filename in os.listdir(repertoire):\n",
    "            print(filename)\n",
    "    else:\n",
    "        print(f\"Le dossier '{repertoire}' n'existe pas. Vérifiez le chemin.\")\n",
    "\n",
    "verifier_et_lister_contenu(clear_dir)\n",
    "\n",
    "\n",
    "image_size = (128, 128)\n",
    "batch_size = 64  \n",
    "\n",
    "\n",
    "def charger_et_preparer_image(img_path):\n",
    "    img = tf.io.read_file(img_path)\n",
    "    img = tf.image.decode_jpeg(img, channels=3)  \n",
    "    img = tf.image.resize(img, image_size)  \n",
    "    img = img / 255.0  \n",
    "    return img\n",
    "\n",
    "\n",
    "def charger_images_et_labels(repertoire, label):\n",
    "    images_paths = [os.path.join(repertoire, filename) for filename in os.listdir(repertoire)]\n",
    "    labels = [label] * len(images_paths)\n",
    "    return images_paths, labels\n",
    "\n",
    "clear_images, clear_labels = charger_images_et_labels(clear_dir, 0)\n",
    "\n",
    "def create_tf_dataset(image_paths, labels, batch_size, shuffle_data=True):\n",
    "    dataset = tf.data.Dataset.from_tensor_slices((image_paths, labels))\n",
    "    dataset = dataset.map(lambda img_path, label: (charger_et_preparer_image(img_path), label), num_parallel_calls=tf.data.AUTOTUNE)\n",
    "    \n",
    "    if shuffle_data:\n",
    "        dataset = dataset.shuffle(buffer_size=1000)\n",
    "    \n",
    "    dataset = dataset.batch(batch_size).prefetch(tf.data.AUTOTUNE)\n",
    "    return dataset\n"
   ]
  },
  {
   "cell_type": "markdown",
   "metadata": {},
   "source": [
    "# Création du modèle"
   ]
  },
  {
   "cell_type": "code",
   "execution_count": null,
   "metadata": {},
   "outputs": [],
   "source": [
    "\n",
    "\n",
    "def create_model():\n",
    "    model = keras.models.Sequential([\n",
    "        keras.layers.Input((128, 128, 3)),\n",
    "        keras.layers.Conv2D(32, (3, 3), activation='relu'),\n",
    "        keras.layers.MaxPooling2D((2, 2)),\n",
    "        keras.layers.Conv2D(64, (3, 3), activation='relu'),\n",
    "        keras.layers.MaxPooling2D((2, 2)),\n",
    "        keras.layers.Flatten(),\n",
    "        keras.layers.Dense(64, activation='relu'),\n",
    "        keras.layers.Dense(2, activation='softmax')  # 2 classes\n",
    "    ])\n",
    "    model.compile(optimizer='adam',\n",
    "                  loss='sparse_categorical_crossentropy',\n",
    "                  metrics=['accuracy'])\n",
    "    return model"
   ]
  },
  {
   "cell_type": "code",
   "execution_count": null,
   "metadata": {},
   "outputs": [],
   "source": [
    "def process_model(model,obscur_dir) :\n",
    "\n",
    "    obscur_images, obscur_labels = charger_images_et_labels(obscur_dir, 1)\n",
    "    all_images = clear_images + obscur_images\n",
    "    all_labels = clear_labels + obscur_labels\n",
    "    X_train, X_val, y_train, y_val = train_test_split(all_images, all_labels, test_size=0.2, stratify=all_labels)\n",
    "\n",
    "\n",
    "\n",
    "    train_dataset = create_tf_dataset(X_train, y_train,batch_size,True)\n",
    "    validation_dataset = create_tf_dataset(X_val, y_val,batch_size,False)\n",
    "    train_labels = np.concatenate([labels for _, labels in train_dataset], axis=0)\n",
    "    val_labels = np.concatenate([labels for _, labels in validation_dataset], axis=0)\n",
    "    print(f\"Distribution des labels dans le jeu d'entraînement: {np.bincount(train_labels)}\")\n",
    "    print(f\"Distribution des labels dans le jeu de validation: {np.bincount(val_labels)}\")\n",
    "\n",
    "\n",
    "    history = model.fit(\n",
    "        train_dataset, \n",
    "        validation_data=validation_dataset,  \n",
    "        epochs=10,   \n",
    "        verbose=1    \n",
    "    ) \n",
    "\n",
    "    plt.plot(history.history['accuracy'])\n",
    "    plt.plot(history.history['val_accuracy'])\n",
    "    plt.title(\"Model accuracy\")\n",
    "    plt.xlabel(\"Epoch\")\n",
    "    plt.ylabel(\"Accuracy\")\n",
    "    plt.legend(['train', 'validation'], loc='upper left')\n",
    "    plt.show()\n",
    "\n",
    "    predictions = model.predict(validation_dataset)\n",
    "    predictions = np.argmax(predictions, axis=1)\n",
    "    true_labels = val_labels\n",
    "    print(classification_report(true_labels, predictions))\n",
    "    print(f\"True labels: {true_labels[:10]}\")\n",
    "    print(f\"Predictions: {predictions[:10]}\")\n",
    "    print(f\"Shape of true_labels: {true_labels.shape}\")\n",
    "    print(f\"Shape of predictions: {predictions.shape}\")\n",
    "\n",
    "    cm = confusion_matrix(true_labels, predictions, labels=[0, 1])\n",
    "    class_names = [str(0),str(1)]\n",
    "    disp = ConfusionMatrixDisplay(confusion_matrix=cm, display_labels=class_names)\n",
    "    disp.plot(cmap=plt.cm.Blues)\n",
    "    plt.savefig(\"matrice.png\")\n",
    "    plt.show()\n",
    "\n",
    "    "
   ]
  },
  {
   "cell_type": "markdown",
   "metadata": {},
   "source": [
    "# Distorsion"
   ]
  },
  {
   "cell_type": "code",
   "execution_count": null,
   "metadata": {},
   "outputs": [],
   "source": [
    "# DIstorsion1\n",
    "\n",
    "model=create_model()\n",
    "distorsion1_dir = os.path.join(train_base_dir, 'distorsion1')\n",
    "process_model(model,distorsion1_dir)\n",
    "\n",
    "# Sauvegarde du modèle\n",
    "model.save('model_dist1.keras') #modele lourd pour push sur git\n",
    "\n",
    "\n",
    "\n"
   ]
  },
  {
   "cell_type": "code",
   "execution_count": null,
   "metadata": {},
   "outputs": [],
   "source": [
    "# DIstorsion2\n",
    "\n",
    "model=create_model()\n",
    "distorsion2_dir = os.path.join(train_base_dir, 'distorsion2')\n",
    "process_model(model,distorsion2_dir)\n",
    "# Sauvegarde du modèle\n",
    "model.save('model_dist2.keras') #modele lourd pour push sur git\n",
    "\n",
    "\n",
    "\n"
   ]
  },
  {
   "cell_type": "code",
   "execution_count": null,
   "metadata": {},
   "outputs": [],
   "source": [
    "# DIstorsion3\n",
    "\n",
    "model=create_model()\n",
    "distorsion3_dir = os.path.join(train_base_dir, 'distorsion3')\n",
    "process_model(model,distorsion3_dir)\n",
    "\n",
    "# Sauvegarde du modèle\n",
    "model.save('model_dist3.keras') #modele lourd pour push sur git\n",
    "\n",
    "\n"
   ]
  },
  {
   "cell_type": "markdown",
   "metadata": {},
   "source": [
    "# Flou Mouvement"
   ]
  },
  {
   "cell_type": "code",
   "execution_count": null,
   "metadata": {},
   "outputs": [],
   "source": [
    "# Mvt1\n",
    "\n",
    "model=create_model()\n",
    "mvt1_dir = os.path.join(train_base_dir, 'mvt1')\n",
    "process_model(model,mvt1_dir)\n",
    "\n",
    "# Sauvegarde du modèle\n",
    "model.save('model_mvt1.keras') #modele lourd pour push sur git\n"
   ]
  },
  {
   "cell_type": "code",
   "execution_count": null,
   "metadata": {},
   "outputs": [],
   "source": [
    "# Mvt2\n",
    "\n",
    "model=create_model()\n",
    "mvt2_dir = os.path.join(train_base_dir, 'mvt2')\n",
    "process_model(model,mvt2_dir)\n",
    "# Sauvegarde du modèle\n",
    "model.save('model_mvt2.keras') #modele lourd pour push sur git\n"
   ]
  },
  {
   "cell_type": "code",
   "execution_count": null,
   "metadata": {},
   "outputs": [],
   "source": [
    "# Mvt3\n",
    "\n",
    "model=create_model()\n",
    "mvt3_dir = os.path.join(train_base_dir, 'mvt3')\n",
    "process_model(model,mvt3_dir)\n",
    "# Sauvegarde du modèle\n",
    "model.save('model_mvt3.keras') #modele lourd pour push sur git\n",
    "\n"
   ]
  },
  {
   "cell_type": "markdown",
   "metadata": {},
   "source": [
    "# Flou gaussien"
   ]
  },
  {
   "cell_type": "code",
   "execution_count": null,
   "metadata": {},
   "outputs": [],
   "source": [
    "# Gauss1\n",
    "\n",
    "model=create_model()\n",
    "gauss1_dir = os.path.join(train_base_dir, 'gauss1')\n",
    "process_model(model,gauss1_dir)\n",
    "# Sauvegarde du modèle\n",
    "model.save('model_gauss1.keras') #modele lourd pour push sur git\n",
    "\n"
   ]
  },
  {
   "cell_type": "code",
   "execution_count": null,
   "metadata": {},
   "outputs": [],
   "source": [
    "# Gauss2\n",
    "\n",
    "model=create_model()\n",
    "gauss2_dir = os.path.join(train_base_dir, 'gauss2')\n",
    "process_model(model,gauss2_dir)\n",
    "# Sauvegarde du modèle\n",
    "model.save('model_gauss2.keras') #modele lourd pour push sur git\n"
   ]
  },
  {
   "cell_type": "code",
   "execution_count": null,
   "metadata": {},
   "outputs": [],
   "source": [
    "# Gauss3\n",
    "\n",
    "model=create_model()\n",
    "gauss3_dir = os.path.join(train_base_dir, 'gauss3')\n",
    "process_model(model,gauss3_dir)\n",
    "# Sauvegarde du modèle\n",
    "model.save('model_gauss3.keras') #modele lourd pour push sur git\n"
   ]
  },
  {
   "cell_type": "markdown",
   "metadata": {},
   "source": [
    "# Pixelisation"
   ]
  },
  {
   "cell_type": "code",
   "execution_count": null,
   "metadata": {},
   "outputs": [],
   "source": [
    "# Pixel1\n",
    "\n",
    "model=create_model()\n",
    "pixel1_dir = os.path.join(train_base_dir, 'pixel1')\n",
    "process_model(model,pixel1_dir)\n",
    "# Sauvegarde du modèle\n",
    "model.save('model_pixel1.keras') #modele lourd pour push sur git\n"
   ]
  },
  {
   "cell_type": "code",
   "execution_count": null,
   "metadata": {},
   "outputs": [],
   "source": [
    "# Pixel2\n",
    "\n",
    "model=create_model()\n",
    "pixel2_dir = os.path.join(train_base_dir, 'pixel1')\n",
    "process_model(model,pixel2_dir)\n",
    "# Sauvegarde du modèle\n",
    "model.save('model_pixel2.keras') #modele lourd pour push sur git"
   ]
  },
  {
   "cell_type": "code",
   "execution_count": null,
   "metadata": {},
   "outputs": [],
   "source": [
    "# Pixel3\n",
    "\n",
    "model=create_model()\n",
    "pixel3_dir = os.path.join(train_base_dir, 'pixel3')\n",
    "process_model(model,pixel3_dir)\n",
    "# Sauvegarde du modèle\n",
    "model.save('model_pixel3.keras') #modele lourd pour push sur git"
   ]
  },
  {
   "cell_type": "markdown",
   "metadata": {},
   "source": [
    "# Pixel Permutation"
   ]
  },
  {
   "cell_type": "code",
   "execution_count": null,
   "metadata": {},
   "outputs": [],
   "source": [
    "# PixelPermut1\n",
    "\n",
    "model=create_model()\n",
    "pixelpermut1_dir = os.path.join(train_base_dir, 'pixelpermut1')\n",
    "process_model(model,pixelpermut1_dir)\n",
    "# Sauvegarde du modèle\n",
    "model.save('model_pixelpermut1.keras') #modele lourd pour push sur git"
   ]
  },
  {
   "cell_type": "code",
   "execution_count": null,
   "metadata": {},
   "outputs": [],
   "source": [
    "# PixelPermut2\n",
    "\n",
    "model=create_model()\n",
    "pixelpermut2_dir = os.path.join(train_base_dir, 'pixelpermut2')\n",
    "process_model(model,pixelpermut2_dir)\n",
    "# Sauvegarde du modèle\n",
    "model.save('model_pixelpermut2.keras') #modele lourd pour push sur git"
   ]
  },
  {
   "cell_type": "code",
   "execution_count": null,
   "metadata": {},
   "outputs": [],
   "source": [
    "# PixelPermut3\n",
    "\n",
    "model=create_model()\n",
    "pixelpermut3_dir = os.path.join(train_base_dir, 'pixelpermut3')\n",
    "process_model(model,pixelpermut3_dir)\n",
    "# Sauvegarde du modèle\n",
    "model.save('model_pixelpermut3.keras') #modele lourd pour push sur git"
   ]
  },
  {
   "cell_type": "markdown",
   "metadata": {},
   "source": [
    "# FGSM"
   ]
  },
  {
   "cell_type": "code",
   "execution_count": null,
   "metadata": {},
   "outputs": [],
   "source": [
    "# FGSM1\n",
    "\n",
    "model=create_model()\n",
    "fgsm1_dir = os.path.join(train_base_dir, 'fgsm1')\n",
    "process_model(model,fgsm1_dir)\n",
    "# Sauvegarde du modèle\n",
    "model.save('model_fgsm1.keras') #modele lourd pour push sur git"
   ]
  },
  {
   "cell_type": "code",
   "execution_count": null,
   "metadata": {},
   "outputs": [],
   "source": [
    "# FGSM2\n",
    "\n",
    "model=create_model()\n",
    "fgsm2_dir = os.path.join(train_base_dir, 'fgsm2')\n",
    "process_model(model,fgsm2_dir)\n",
    "# Sauvegarde du modèle\n",
    "model.save('model_fgsm2.keras') #modele lourd pour push sur git"
   ]
  },
  {
   "cell_type": "code",
   "execution_count": null,
   "metadata": {},
   "outputs": [],
   "source": [
    "# FGSM3\n",
    "\n",
    "model=create_model()\n",
    "fgsm3_dir = os.path.join(train_base_dir, 'fgsm3')\n",
    "process_model(model,fgsm3_dir)\n",
    "# Sauvegarde du modèle\n",
    "model.save('model_fgsm3.keras') #modele lourd pour push sur git"
   ]
  }
 ],
 "metadata": {
  "kernelspec": {
   "display_name": "Python 3",
   "language": "python",
   "name": "python3"
  },
  "language_info": {
   "codemirror_mode": {
    "name": "ipython",
    "version": 3
   },
   "file_extension": ".py",
   "mimetype": "text/x-python",
   "name": "python",
   "nbconvert_exporter": "python",
   "pygments_lexer": "ipython3",
   "version": "3.11.5"
  }
 },
 "nbformat": 4,
 "nbformat_minor": 2
}
